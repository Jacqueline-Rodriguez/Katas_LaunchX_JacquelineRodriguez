{
 "cells": [
  {
   "cell_type": "code",
   "execution_count": null,
   "metadata": {},
   "outputs": [],
   "source": []
  },
  {
   "cell_type": "markdown",
   "metadata": {},
   "source": [
    "ejercicio 1"
   ]
  },
  {
   "cell_type": "code",
   "execution_count": 3,
   "metadata": {},
   "outputs": [
    {
     "name": "stdout",
     "output_type": "stream",
     "text": [
      "On average, the Moon moves 4cm away from the Earth every year\n",
      "On average, the Moon moves 4cm away from the Earth every year\n",
      "On average, the Moon moves 4cm away from the Earth every year\n",
      "On average, the Moon moves 4cm away from the Earth every year\n",
      "On average, the Moon moves 4cm away from the Earth every year\n",
      "On average, the Moon moves 4cm away from the Earth every year\n",
      "On average, the Moon moves 4cm away from the Earth every year\n",
      "On average, the Moon moves 4cm away from the Earth every year\n",
      "On average, the Moon moves 4cm away from the Earth every year\n",
      "On average, the Moon moves 4cm away from the Earth every year\n",
      "On average, the Moon moves 4cm away from the Earth every year\n",
      "On average, the Moon moves 4cm away from the Earth every year\n",
      "On average, the Moon moves 4cm away from the Earth every year\n",
      "On average, the Moon moves 4cm away from the Earth every year\n",
      "On average, the Moon moves 4cm away from the Earth every year\n",
      "On average, the Moon moves 4cm away from the Earth every year\n"
     ]
    }
   ],
   "source": [
    "text = \"Interesting facts about the Moon. The Moon is Earth's only satellite. There are several interesting facts about the Moon and how it affects life here on Earth. On average, the Moon moves 4cm away from the Earth every year. This yearly drift is not significant enough to cause immediate effects on Earth. The hi\"\n",
    "\n",
    "\n",
    "\n",
    "text_parts = text.split('. ')\n",
    "text_parts\n",
    "key_words = [\"average\", \"temperature\", \"distance\"]\n",
    "for sentence in text_parts:\n",
    "    for key_word in key_words:\n",
    "        if key_word in sentence:\n",
    "            print(sentence)\n",
    "            break\n",
    "        for sentence in text_parts:\n",
    "            for key_word in key_words:\n",
    "                if key_word in sentence:\n",
    "                    print(sentence.replace(' C', ' Celsius'))\n",
    "                    break"
   ]
  },
  {
   "cell_type": "markdown",
   "metadata": {},
   "source": [
    "Ejercicio 2 "
   ]
  },
  {
   "cell_type": "code",
   "execution_count": 4,
   "metadata": {},
   "outputs": [
    {
     "name": "stdout",
     "output_type": "stream",
     "text": [
      "-------------------------------------------------------------------------------- \n",
      "Nombre del planeta: Marte  \n",
      "Gravedad en Ganímedes: 1.4300000000000002 m/s2 \n",
      "\n",
      "-------------------------------------------------------------------------------- \n",
      "Nombre del planeta: Marte  \n",
      "Gravedad en Ganímedes: 1.4300000000000002 m/s2 \n",
      "\n",
      "\n",
      "Datos de Gravedad sobre: Ganímedes\n",
      "-------------------------------------------------------------------------------\n",
      "Nombre del planeta: Marte \n",
      "Gravedad en Ganímedes: 0.00143 m/s2\n",
      "\n",
      "\n",
      "Datos de Gravedad sobre: Ganímedes\n",
      "-------------------------------------------------------------------------------\n",
      "Nombre del planeta: Marte \n",
      "Gravedad en Ganímedes: 1.4300000000000002 m/s2\n",
      "\n"
     ]
    }
   ],
   "source": [
    "planeta = 'Marte '\n",
    "gravedad  = 0.00143\n",
    "nombre = 'Ganímedes'\n",
    "title = f'datos de gravedad sobre {nombre}'\n",
    "hechos = f\"\"\"{'-'*80} \n",
    "Nombre del planeta: {planeta} \n",
    "Gravedad en {nombre}: {gravedad * 1000} m/s2 \n",
    "\"\"\"\n",
    "template = f\"\"\"{title.title()} \n",
    "{hechos} \n",
    "\"\"\" \n",
    "print(hechos)\n",
    "planeta = 'Marte '\n",
    "gravedad  = 0.00143\n",
    "nombre = 'Ganímedes'\n",
    "print(hechos)\n",
    "\n",
    "new_template = \"\"\"\n",
    "Datos de Gravedad sobre: {nombre}\n",
    "-------------------------------------------------------------------------------\n",
    "Nombre del planeta: {planeta}\n",
    "Gravedad en {nombre}: {gravedad} m/s2\n",
    "\"\"\"\n",
    "print(new_template.format(nombre=nombre, planeta=planeta, gravedad=gravedad))\n",
    "print(new_template.format(nombre=nombre, planeta=planeta, gravedad=gravedad*1000))"
   ]
  }
 ],
 "metadata": {
  "interpreter": {
   "hash": "c0f70214c0dd213f07f54ee5d6e0ea644bdbba35113c9bfe8aaa0d1db03ad5dd"
  },
  "kernelspec": {
   "display_name": "Python 3.7.7 ('base')",
   "language": "python",
   "name": "python3"
  },
  "language_info": {
   "codemirror_mode": {
    "name": "ipython",
    "version": 3
   },
   "file_extension": ".py",
   "mimetype": "text/x-python",
   "name": "python",
   "nbconvert_exporter": "python",
   "pygments_lexer": "ipython3",
   "version": "3.7.7"
  },
  "orig_nbformat": 4
 },
 "nbformat": 4,
 "nbformat_minor": 2
}
