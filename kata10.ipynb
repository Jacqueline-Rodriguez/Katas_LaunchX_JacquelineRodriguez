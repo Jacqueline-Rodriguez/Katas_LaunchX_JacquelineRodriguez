# Introducci�n

Incluso el c�digo mejor escrito contendr� errores. Los errores pueden producirse debido a actualizaciones, archivos movidos u otros cambios inesperados. Afortunadamente, Python ofrece una amplia compatibilidad para el seguimiento y el control de errores.

## Escenario: Creaci�n de un programa de cohetes

Imagina que es un desarrollador que est� creando un programa para un cohete. El programa debe leer un archivo de configuraci�n para asegurarse de que se carga la configuraci�n adecuada. La lectura del archivo puede producir un error si falta el archivo o tiene otros problemas. En este m�dulo, explorar�s c�mo crear el programa.

## �Qu� descubrir�s?
Al t�rmino de este m�dulo, sabr�s hacer lo siguiente:

* Leer y usar la salida de errores de las excepciones
Controlar correctamente las excepciones
* Generar excepciones con mensajes de error �tiles
* Usar excepciones para controlar el flujo de un programa

## �Cu�l es el objetivo principal?
En este m�dulo, descubrir�s c�mo usar la salida de excepci�n para la depuraci�n, c�mo detectar y generar excepciones, y c�mo afecta a la l�gica de un programa cuando se producen excepciones.

---

## Uso de tracebacks para buscar errores

Las excepciones en Python son una caracter�stica principal del lenguaje. Es posible que te sorprenda leer que algo que genera errores se resalta como una caracter�stica. Esta sorpresa puede deberse a que las herramientas de software s�lidas no parecen bloquearse con un traceback *seguimiento* (varias l�neas de texto que indican c�mo se inici� y finaliz� el error).

Sin embargo, las excepciones son �tiles porque ayudan en la toma de decisiones generando mensajes de error descriptivos. Pueden ayudarte a controlar los problemas esperados e inesperados.

## Tracebacks
Un traceback es el cuerpo del texto que puede apuntar al origen (y al final) de un error no controlado. Comprender los componentes de un traceback har� que seas m�s eficaz al corregir errores o depurar un programa que no funciona bien.

La primera vez que encuentres excepciones en Python podr�as verte tentado/a a evitar el error suprimi�ndolo. Cuando un programa sufre un error no controlado, aparece un traceback como salida. Como ver�s en este m�dulo, los tracebacks son �tiles. Hay maneras de controlar correctamente los errores para que no aparezcan o muestren informaci�n �til.

Si intentamos en un notebook, abrir un archivo inexistente sucede lo siguiente:

```
>>> open("/path/to/mars.jpg")
Traceback (most recent call last):
  File "<stdin>", line 1, in <module>
FileNotFoundError: [Errno 2] No such file or directory: '/path/to/mars.jpg'
```
Esa salida tiene varias partes clave. En primer lugar, el traceback menciona el orden de la salida. Despu�s, informa de que el archivo es `stdin` (entrada en el terminal interactivo) en la primera l�nea de la entrada. El error es `FileNotFoundError` (el nombre de excepci�n), lo que significa que el archivo no existe o quiz�s el directorio correspondiente no existe.

Es mucha informaci�n. Puede ser dif�cil entender por qu� la l�nea 1 es significativa o qu� significa `Errno 2`.

Intenta crear un archivo de Python y as�gnale el nombre *open.py*, con el contenido siguiente:

```
def main():
    open("/path/to/mars.jpg")

if __name__ == '__main__':
    main()
```
Se trata de una sola funci�n `main()` que abre el archivo inexistente, como antes. Al final, esta funci�n usa un asistente de Python que indica al int�rprete que ejecute la funci�n `main()` cuando se le llama en el terminal. Ejec�tala con Python y podr�s comprobar el siguiente mensaje de error:
```
$ python3 open.py
Traceback (most recent call last):
  File "/tmp/open.py", line 5, in <module>
    main()
  File "/tmp/open.py", line 2, in main
    open("/path/to/mars.jpg")
FileNotFoundError: [Errno 2] No such file or directory: '/path/to/mars.jpg'
```
La salida de error tiene m�s sentido ahora. Las rutas de acceso apuntan a un �nico archivo denominado *open.py*. La salida menciona que el error se inicia en la l�nea 5, que incluye la llamada a `main()`. A continuaci�n, la salida sigue el error a la l�nea 2 en la llamada de funci�n `open()`. Y, por �ltimo, `FileNotFoundError` notifica de nuevo que el archivo o el directorio no existen.

Los tracebacks casi siempre incluyen la informaci�n siguiente:

* Todas las rutas de acceso de archivo implicadas, para cada llamada a cada funci�n.
* Los n�meros de l�nea asociados a cada ruta de acceso de archivo.
* Los nombres de las funciones, m�todos o clases implicados en la generaci�n de una excepci�n.
* El nombre de la excepci�n que se ha producido.

## Controlando las excepciones

Cuando encuentres por primera vez excepciones que muestren tracebacks grandes como salida, es posible que te veas tentado/a a detectar todos los errores para evitar que esto suceda.

Si est�s en una misi�n a Marte, �Qu� podr�as hacer si un texto del sistema de navegaci�n dice 'Se ha producido un error'? Imagina que no hay ninguna m�s informaci�n ni contexto, simplemente una luz roja parpadeante con el texto del error. Como desarrollador, resulta �til ponerse al otro lado del programa: �Qu� puede hacer un usuario cuando se produce un error?

Aunque en este m�dulo se explica c�mo controlar las excepciones detect�ndolas, no es necesario detectar las excepciones todo el tiempo. A veces resulta �til permitir que se puedan generar excepciones para que otros autores de llamadas puedan tratar los errores.

### Try y Except de los bloques
Vamos a usar el ejemplo de navegador a fin de crear c�digo que abra archivos de configuraci�n para la misi�n de Marte. Los archivos de configuraci�n pueden tener todo tipo de problemas, por lo que es fundamental notificarlos con precisi�n cuando se presenten. Sabemos que, si no existe un archivo o directorio, se genera `FileNotFoundError`. Si queremos controlar esa excepci�n, podemos hacerlo con un bloque try y except:

```
>>> try:
...     open('config.txt')
... except FileNotFoundError:
...     print("Couldn't find the config.txt file!")
...
Couldn't find the config.txt file!
```

Despu�s de la palabra clave `try`, agregamos c�digo que tenga la posibilidad de producir una excepci�n. A continuaci�n, agregamos la palabra clave `except` junto con la posible excepci�n, seguida de cualquier c�digo que deba ejecutarse cuando se produce esa condici�n. Puesto que config.txt no existe en el sistema, Python imprime que el archivo de configuraci�n no est� ah�. El bloque `try` y `except`, junto con un mensaje �til, evita un seguimiento y sigue informando al usuario sobre el problema.

Aunque es com�n un archivo que no existe, no es el �nico error que podemos encontrar. Los permisos de archivo no v�lidos pueden impedir la lectura de un archivo, incluso si este existe. Vamos a crear un archivo de Python denominado config.py. El archivo tiene c�digo que busca y lee el archivo de configuraci�n del sistema de navegaci�n:

```
def main():
    try:
        configuration = open('config.txt')
    except FileNotFoundError:
        print("Couldn't find the config.txt file!")


if __name__ == '__main__':
    main()
```
A continuaci�n, quita,ps el archivo *config.txt* y creamos un directorio denominado *config.txt*. Intentaremos llamar al archivo *config.py* para ver un error nuevo que deber�a ser similar al siguiente:
```
$ python config.py
Traceback (most recent call last):
  File "/tmp/config.py", line 9, in <module>
    main()
  File "/tmp/config.py", line 3, in main
    configuration = open('config.txt')
IsADirectoryError: [Errno 21] Is a directory: 'config.txt'
```
Una manera poco �til de controlar este error ser�a detectar todas las excepciones posibles para evitar un traceback. Para comprender por qu� detectar todas las excepciones es problem�tico, probaremos actualizando la funci�n `main()`:
```
def main():
    try:
        configuration = open('config.txt')
    except Exception:
        print("Couldn't find the config.txt file!")
```

Ahora volvemos a ejecutar el c�digo en el mismo lugar donde existe el archivo *config.txt* con permisos incorrectos:
```
$ python config.py
Couldn't find the config.txt file!
```
El problema ahora es que el mensaje de error es incorrecto. El archivo existe, pero tiene permisos diferentes y Python no puede leerlo. Cuando se trata con errores de software, puede resultar frustrante tener errores que hagan lo siguiente:

* No indiquen cu�l es el problema real.
* Proporcionen una salida que no coincida con el problema real.
* No sugieran lo que se puede hacer para corregir el problema.

Vamos a corregir este fragmento de c�digo para abordar todas estas frustraciones. Revertiremos la detecci�n de `FileNotFoundError` y luego agregamos otro bloque `except` para detectar `PermissionError`:

```
def main():
    try:
        configuration = open('config.txt')
    except FileNotFoundError:
        print("Couldn't find the config.txt file!")
    except IsADirectoryError:
        print("Found config.txt but it is a directory, couldn't read it")
```

Ahora volvemos a ejecutarlo, en el mismo lugar donde *config.txt* est� con el problema de permisos:

```
$ python config.py
Found config.txt but couldn't read it
```
Eliminamos el archivo config.txt para asegurarnos de que se alcanza el primer bloque `except` en su lugar:
```
$ rm -f config.txt
$ python config.py
Couldn't find the config.txt file!
```
Cuando los errores son de una naturaleza similar y no es necesario controlarlos individualmente, puedes agrupar las excepciones como una usando par�ntesis en la l�nea `except`. Por ejemplo, si el sistema de navegaci�n est� bajo cargas pesadas y el sistema de archivos est� demasiado ocupado, tiene sentido detectar `BlockingIOError` y `TimeOutError` juntos:

```
def main():
    try:
        configuration = open('config.txt')
    except FileNotFoundError:
        print("Couldn't find the config.txt file!")
    except IsADirectoryError:
        print("Found config.txt but it is a directory, couldn't read it")
    except (BlockingIOError, TimeoutError):
        print("Filesystem under heavy load, can't complete reading configuration file")
```
**Sugerencia**

Aunque puedes agrupar excepciones, solo debes hacerlo cuando no sea necesario controlarlas individualmente. Evita agrupar muchas excepciones para proporcionar un mensaje de error generalizado.

Si necesitas acceder al error asociado a la excepci�n, debes actualizar la l�nea `except` para incluir la palabra clave `as`. Esta t�cnica es pr�ctica si una excepci�n es demasiado gen�rica y el mensaje de error puede ser �til:

```
>>> try:
...     open("mars.jpg")
... except FileNotFoundError as err:
...     print("got a problem trying to read the file:", err)
...
got a problem trying to read the file: [Errno 2] No such file or directory: 'mars.jpg'
```
En este caso, `as err` significa que `err` se convierte en una variable con el objeto de excepci�n como valor. Despu�s, usa este valor para imprimir el mensaje de error asociado a la excepci�n. Otra raz�n para usar esta t�cnica es acceder directamente a los atributos del error. Por ejemplo, si detecta una excepci�n `OSError` m�s gen�rica, que es la excepci�n primaria de `FilenotFoundError` y `PermissionError`, podemos diferenciarlas mediante el atributo `.errno`:

```
>>> try:
...     open("config.txt")
... except OSError as err:
...     if err.errno == 2:
...         print("Couldn't find the config.txt file!")
...     elif err.errno == 13:
...         print("Found config.txt but couldn't read it")
...
Couldn't find the config.txt file!
```

Intenta usar siempre la t�cnica que proporcione la mejor legibilidad para el c�digo y que ayude a mantenerlo en el futuro. A veces es necesario usar c�digo menos legible para ofrecer una mejor experiencia de usuario cuando se produce un error.

## Generaci�n de excepciones
Ahora que tienes una buena comprensi�n de los tracebacks y el control de excepciones, vamos a revisar la generaci�n de excepciones.

Es posible que ya conozcas una situaci�n que podr�a provocar una condici�n de error al escribir c�digo. En estas situaciones, resulta �til generar excepciones que permitan que otro c�digo comprenda cu�l es el problema.

La generaci�n de excepciones tambi�n puede ayudar en la toma de decisiones para otro c�digo. Como hemos visto antes, en funci�n del error, el c�digo puede tomar decisiones inteligentes para resolver, solucionar o ignorar un problema.

Los astronautas limitan su uso de agua a unos 11 litros al d�a. Vamos a crear una funci�n que, con base al n�mero de astronautas, pueda calcular la cantidad de agua quedar� despu�s de un d�a o m�s:

```
def water_left(astronauts, water_left, days_left):
    daily_usage = astronauts * 11
    total_usage = daily_usage * days_left
    total_water_left = water_left - total_usage
    return f"Total water left after {days_left} days is: {total_water_left} liters"
```
PruProbemos con cinco astronautas, 100 litros de agua sobrante y dos d�as:

```
>>> water_left(5, 100, 2)
'Total water left after 2 days is: -10 liters'
```
Esto no es muy �til, ya que una carencia en los litros ser�a un error. Despu�s, el sistema de navegaci�n podr�a alertar a los astronautas que no habr� suficiente agua para todos en dos d�as. Si eres un ingeniero(a) que programa el sistema de navegaci�n, podr�as generar una excepci�n en la funci�n water_left() para alertar de la condici�n de error:

```
def water_left(astronauts, water_left, days_left):
    daily_usage = astronauts * 11
    total_usage = daily_usage * days_left
    total_water_left = water_left - total_usage
    if total_water_left < 0:
        raise RuntimeError(f"There is not enough water for {astronauts} astronauts after {days_left} days!")
    return f"Total water left after {days_left} days is: {total_water_left} liters"
```
Ahora volvemos a ejecutarlo
```
>>> water_left(5, 100, 2)
Traceback (most recent call last):
  File "<stdin>", line 1, in <module>
  File "<stdin>", line 6, in water_left
RuntimeError: There is not enough water for 5 astronauts after 2 days!
```
En el sistema de navegaci�n, el c�digo para se�alar la alerta ahora puede usar `RuntimeError` para generar la alerta:

```
try:
    water_left(5, 100, 2)
except RuntimeError as err:
    alert_navigation_system(err)
```
La funci�n `water_left()` tambi�n se puede actualizar para evitar el paso de tipos no admitidos. Intentenis pasar argumentos que no sean enteros para comprobar la salida de error:

```
>>> water_left("3", "200", None)
Traceback (most recent call last):
  File "<stdin>", line 1, in <module>
  File "<stdin>", line 3, in water_left
TypeError: can't multiply sequence by non-int of type 'NoneType'
```
El error de `TypeError` no es muy descriptivo en el contexto de lo que espera la funci�n. Actualizaremos la funci�n para que use `TypeError`, pero con un mensaje mejor:
```
def water_left(astronauts, water_left, days_left):
    for argument in [astronauts, water_left, days_left]:
        try:
            # If argument is an int, the following operation will work
            argument / 10
        except TypeError:
            # TypError will be raised only if it isn't the right type 
            # Raise the same exception but with a better error message
            raise TypeError(f"All arguments must be of type int, but received: '{argument}'")
    daily_usage = astronauts * 11
    total_usage = daily_usage * days_left
    total_water_left = water_left - total_usage
    if total_water_left < 0:
        raise RuntimeError(f"There is not enough water for {astronauts} astronauts after {days_left} days!")
    return f"Total water left after {days_left} days is: {total_water_left} liters"
```
Ahora volvemos a intentarlo para obtener un error mejor:
```
>>> water_left("3", "200", None)
Traceback (most recent call last):
  File "<stdin>", line 5, in water_left
TypeError: unsupported operand type(s) for /: 'str' and 'int'

During handling of the preceding exception, another exception occurred:

Traceback (most recent call last):
  File "<stdin>", line 1, in <module>
  File "<stdin>", line 9, in water_left
TypeError: All arguments must be of type int, but received: '3'
```

## Resumen
Para ser un desarrollador eficaz, debes saber c�mo funcionan las excepciones y c�mo controlarlas. En este m�dulo, has descubierto c�mo usar la salida de excepci�n para la depuraci�n, c�mo detectar y generar excepciones y, por �ltimo, c�mo afecta a la l�gica de un programa cuando se producen excepciones.

Con los conocimientos del uso y el control de excepciones, puedes evitar problemas comunes, como detectarlos todos para evitar tracebacks.

En este m�dulo, has obtenido informaci�n sobre estas aptitudes:

* Leer y usar la salida de error de las excepciones
* Controlar correctamente las excepciones
* Generar excepciones con mensajes de error �tiles
* Usar excepciones para controlar el flujo de un programa


## Kata del m�dulo 10

Intenta realizar los ejercicios descritos en este documento.

---

Curso Proped�tico de Python para Launch X - Innovacci�n Virtual.

Material desarrollado con base en los contenidos de MSLearn y la met�fora de LaunchX, traducci�n e implementaci�n por: Fernanda Ochoa - Learning Producer de LaunchX.

Redes:
* GitHub: [FernandaOchoa](https://github.com/FernandaOchoa)
* Twitter: [@imonsh](https://twitter.com/imonsh)
* Instagram: [fherz8a](https://www.instagram.com/fherz8a/)